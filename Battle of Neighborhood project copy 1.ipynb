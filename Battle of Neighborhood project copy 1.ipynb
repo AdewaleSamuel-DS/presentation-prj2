{
 "cells": [
  {
   "cell_type": "code",
   "execution_count": null,
   "metadata": {},
   "outputs": [],
   "source": [
    "\n",
    "\n",
    "                                                            # This notebook will be used for Battle of Neighborhood projects>week2> \n",
    "                                                       MY PRESENTATION OF BATTLE OF NEIGHBORHOOD PROJECTS 2020\n",
    "        \n",
    "        \n",
    "        \n",
    "        .BACKGROUND:IN this project we will be looking at parents looking at good quality schools for their children and venues in my neighborhoods,this presentation will be \n",
    "        targeting stakeholders like parents interested in enrolling their children for schools and venues in my neighborhoods.\n",
    "        WE WILL BE LOOKING AT FOLLOWING POINTS:\n",
    "        .MANHATTAN:5 Boroughs and 306 Neighborhoods\n",
    "        .SCHOOLS: We analyse details like name, contact, categories, address, distance and schools ID\n",
    "        .Explore Neighborhoods, build up unsupervised machine learning classifier model,visualise schools nearby , Exploring trending venues and carry out analysis on all\n",
    "        these factors.\n",
    "        \n",
    "        \n",
    "        \n",
    "         DATA SOURCE:\n",
    "        \n",
    "          .FOURSQUARE API- This location data provider will be use to analyse, run code and help parents in my neighborhood to make an informed decision.\n",
    "          .PYTHON LIBERARIES-Such as Pandas, Numpy and so on.\n",
    "           .MACHINE LEARNING ALGORITHMS like K-means that will help in segmenting the schools in my neighborhood.\n",
    "    \n",
    "    \n",
    "        \n",
    "                                                    \n",
    "            \n",
    "\n",
    "\n",
    "\n",
    "                \n",
    "    \n"
   ]
  },
  {
   "cell_type": "code",
   "execution_count": 1,
   "metadata": {},
   "outputs": [],
   "source": [
    "                                     # This notebook will be used for Battle of Neighborhood projects>week2> \n",
    "    \n",
    "    \n",
    "                                           THE FOLLOWING FACTORS WERE CONSIDERED IN PREPARING THIS PRESENTATION \n",
    "        .We examine result of schools in my neighborhood,we examine 13 different schools with their Names, Categories, Addresses, Latitudes, Longitude, and other factors that \n",
    "        will aid parents to form their opinion regarding their decision.\n",
    "        Below is example of analysis we carried out in form of dataframe in examining schools in my neighborhood.\n",
    "        \n",
    "        \n",
    "        name\tcategories\taddress\tlat\tlng\tlabeledLatLngs\tdistance\tpostalCode\tcc\tcity\tstate\tcountry\tformattedAddress\tcrossStreet\tid\n",
    "0\tColumbia Grammar and Preparatory School\tHigh School\t5 W 93rd St\t40.790665\t-73.967015\t[{'label': 'display', 'lat': 40.79066529480941...\t611\t10025\tUS\tNew York\tNY\tUnited States\t[5 W 93rd St, New York, NY 10025, United States]\tNaN\t4ab234b1f964a520c46a20e3\n",
    "1\tDiller Quaile School of Music\tCollege Arts Building\t24 E 95th St\t40.786644\t-73.955068\t[{'label': 'display', 'lat': 40.78664389200099...\t524\t10128\tUS\tNew York\tNY\tUnited States\t[24 E 95th St (Madison Ave), New York, NY 1012...\tMadison Ave\t4bd482166f649521c7786dec\n",
    "2\tNightingale School\tCollege Academic Building\t20 E 92nd St\t40.784702\t-73.956718\t[{'label': 'display', 'lat': 40.784702, 'lng':...\t609\t10128\tUS\tNew York\tNY\tUnited States\t[20 E 92nd St (92), New York, NY 10128, United...\t92\t4bdb9c34c79cc928f6cb83e9\n",
    "\n",
    "     .We visualise schools that are nearby\n",
    "     \n",
    "0      Columbia Grammar and Preparatory School\n",
    "1                Diller Quaile School of Music\n",
    "2                           Nightingale School\n",
    "3             Hunter College Elementary School\n",
    "4                                Spence School\n",
    "5               The Nightingale-Bamford School\n",
    "6                     Manhattan Country School\n",
    "7                         St. Bernard's School\n",
    "8                    Wetherby-Pembridge School\n",
    "9                   Alexander Robertson School\n",
    "10         Hunter Elementary School Playground\n",
    "11                            Middle School 54\n",
    "12           The New York International School\n",
    "13    Hunter College Campus Schools Playground\n",
    "Name: name, dtype: object,the following are schools we come up with in our analysis.\n",
    "\n",
    "\n",
    "      .We put venues in tabular form for parents to know venues in their neighborhood such as: Marble Hill,Chinatown, Washington Height, Inwood, Manhattanvile and so .\n",
    "      Marble Hill\n",
    "Chinatown\n",
    "Washington Heights\n",
    "Inwood\n",
    "Hamilton Heights\n",
    "Manhattanville\n",
    "Central Harlem\n",
    "East Harlem\n",
    "Upper East Side\n",
    "Yorkville\n",
    "Lenox Hill\n",
    "Roosevelt Island\n",
    "Upper West Side\n",
    "Lincoln Square\n",
    "Clinton\n",
    "Midtown\n",
    "Murray Hill\n",
    "Chelsea\n",
    "Greenwich Village\n",
    "\n",
    "\n",
    "   .We analysis amenities in neighborhood that will aid parents decision in choosing quality schools such as the following:Accessories Stores, American Restaurants, \n",
    "   Art Galaries, baby store and BBQ Joint.\n",
    "   \n",
    "   \n",
    "   .We create Top Ten Venues in my neighborhoods into Dataframe for parents to see, inorder to aid their decision as well.Below is what we come up in carrying \n",
    "   out our analysis.(first four sample)\n",
    "   \n",
    "Neighborhood\t1st Most Common Venue\t2nd Most Common Venue\t3rd Most Common Venue\t4th Most Common Venue\t5th Most Common Venue\t6th Most Common Venue\t7th Most Common Venue\t8th Most Common Venue\t9th Most Common Venue\t10th Most Common Venue\n",
    "0\tBattery Park City\tPark\tHotel\tGym\tCoffee Shop\tMemorial Site\tShopping Mall\tPlaza\tBurger Joint\tGourmet Shop\tPlayground\n",
    "1\tCarnegie Hill\tCoffee Shop\tCafé\tBookstore\tItalian Restaurant\tGym / Fitness Center\tGym\tFrench Restaurant\tYoga Studio\tWine Shop\tVietnamese Restaurant\n",
    "2\tCentral Harlem\tAfrican Restaurant\tBar\tFrench Restaurant\tAmerican Restaurant\tChinese Restaurant\tSeafood Restaurant\tCosmetics Shop\tCafeteria\tGrocery Store\tLibrary\n",
    "3\tChelsea\tCoffee Shop\tArt Gallery\tBakery\tAmerican Restaurant\tIce Cream Shop\tItalian Restaurant\tJapanese Restaurant\tPark\tCycle Studio\tCupcake Shop\n",
    "4\tChinatown\tChinese Restaurant\tCocktail Bar\tDessert Shop\tBakery\tAmerican Restaurant\tSalon / Barbershop\tSpa\tNoodle House\tOptical Shop\tHotpot Restaurant\n",
    "\n",
    "\n",
    "\n",
    "\n",
    "    .We counts number of venues in table format to aid visualisation decision of parents in my neighborhoods.Below is sample of our analysis carried out\n",
    "    \tNeighborhood Latitude\tNeighborhood Longitude\tVenue\tVenue Latitude\tVenue Longitude\tVenue Category\n",
    "Neighborhood\t\t\t\t\t\t\n",
    "Battery Park City\t66\t66\t66\t66\t66\t66\n",
    "Carnegie Hill\t86\t86\t86\t86\t86\t86\n",
    "Central Harlem\t46\t46\t46\t46\t46\t46\n",
    "Chelsea\t100\t100\t100\t100\t100\t100\n",
    "Chinatown\t100\t100\t100\t100\t100\t100\n",
    "Civic Center\t100\t100\t100\t100\t100\t100\n",
    "Clinton\t100\t100\t100\t100\t100\t100\n",
    "East Harlem\t40\t40\t40\t40\t40\t40\n",
    "East Village\t100\t100\t100\t100\t100\t100\n",
    "Financial District\t100\t100\t100\t100\t100\t100\n",
    "Flatiron\t100\t100\t100\t100\t100\t100\n",
    "Gramercy\t94\t94\t94\t94\t94\t94\n",
    "Greenwich Village\t100\t100\t100\t100\t100\t100\n",
    "Hamilton Heights\t63\t63\t63\t63\t63\t63\n",
    "Hudson Yards\t63\t63\t63\t63\t63\t63\n",
    "Inwood\t58\t58\t58\t58\t58\t58\n",
    "Lenox Hill\t100\t100\t100\t100\t100\t100\n",
    "Lincoln Square\t94\t94\t94\t94\t94\t94\n",
    "Little Italy\t100\t100\t100\t100\t100\t100\n",
    "Lower East Side\t48\t48\t48\t48\t48\t48\n",
    "Manhattan Valley\t50\t50\t50\t50\t50\t50\n",
    "Manhattanville\t49\t49\t49\t49\t49\t49\n",
    "Marble Hill\t23\t23\t23\t23\t23\t23\n",
    "Midtown\t100\t100\t100\t100\t100\t100\n",
    "Midtown South\t100\t100\t100\t100\t100\t100\n",
    "Morningside Heights\t45\t45\t45\t45\t45\t45\n",
    "Murray Hill\t100\t100\t100\t100\t100\t100\n",
    "Noho\t100\t100\t100\t100\t100\t100\n",
    "Roosevelt Island\t27\t27\t27\t27\t27\t27\n",
    "Soho\t100\t100\t100\t100\t100\t100\n",
    "Stuyvesant Town\t17\t17\t17\t17\t17\t17\n",
    "Sutton Place\t100\t100\t100\t100\t100\t100\n",
    "Tribeca\t88\t88\t88\t88\t88\t88\n",
    "Tudor City\t81\t81\t81\t81\t81\t81\n",
    "Turtle Bay\t100\t100\t100\t100\t100\t100\n",
    "Upper East Side\t98\t98\t98\t98\t98\t98\n",
    "Upper West Side\t98\t98\t98\t98\t98\t98\n",
    "Washington Heights\t85\t85\t85\t85\t85\t85\n",
    "West Village\t100\t100\t100\t100\t100\t100\n",
    "Yorkville\t100\t100\t100\t100\t100\t100\n",
    "\n",
    "\n",
    "\n",
    "   .We use k-means machine learning algorithm to visualise in terms of drawing map(map_clusters) of my neighborhoods and carry out analysis of all the venues in my neighborhoods.Below is\n",
    "   sample of dataframe we comeup with during our analysis.\n",
    "   \n",
    "   \tBorough\tNeighborhood\tLatitude\tLongitude\tCluster Labels\t1st Most Common Venue\t2nd Most Common Venue\t3rd Most Common Venue\t4th Most Common Venue\t5th Most Common Venue\t6th Most Common Venue\t7th Most Common Venue\t8th Most Common Venue\t9th Most Common Venue\t10th Most Common Venue\n",
    "0\tManhattan\tMarble Hill\t40.876551\t-73.910660\t4\tGym\tDiscount Store\tCoffee Shop\tSandwich Place\tYoga Studio\tPizza Place\tDeli / Bodega\tDepartment Store\tPharmacy\tDiner\n",
    "1\tManhattan\tChinatown\t40.715618\t-73.994279\t1\tChinese Restaurant\tCocktail Bar\tDessert Shop\tBakery\tAmerican Restaurant\tSalon / Barbershop\tSpa\tNoodle House\tOptical Shop\tHotpot Restaurant\n",
    "2\tManhattan\tWashington Heights\t40.851903\t-73.936900\t0\tCafé\tBakery\tGrocery Store\tLatin American Restaurant\tDeli / Bodega\tNew American Restaurant\tDonut Shop\tMobile Phone Shop\tChinese Restaurant\tSandwich Place\n",
    "3\tManhattan\tInwood\t40.867684\t-73.921210\t3\tMexican Restaurant\tLounge\tRestaurant\tCafé\tFrozen Yogurt Shop\tDeli / Bodega\tPizza Place\tWine Bar\tCaribbean Restaurant\tPark\n",
    "\n",
    "                                                     PARENTS DECISION/BUSINESS DECISION\n",
    "\n",
    "        . PARENTS are in better position to choose which school they want to enrol their children.\n",
    "        .Parents have an idea which schools are nearby in their neighborhood.\n",
    "        .Parents are able to explore trending venues in their neighborhoods.\n",
    "        Finaly, all these data analysis, data science skills and visualisation softwares help parents in deciding which school and venue they will considered  in enroling their \n",
    "        children.\n"
   ]
  },
  {
   "cell_type": "code",
   "execution_count": null,
   "metadata": {},
   "outputs": [],
   "source": []
  },
  {
   "cell_type": "code",
   "execution_count": null,
   "metadata": {},
   "outputs": [],
   "source": []
  },
  {
   "cell_type": "code",
   "execution_count": null,
   "metadata": {},
   "outputs": [],
   "source": []
  },
  {
   "cell_type": "code",
   "execution_count": null,
   "metadata": {},
   "outputs": [],
   "source": []
  },
  {
   "cell_type": "code",
   "execution_count": null,
   "metadata": {},
   "outputs": [],
   "source": []
  },
  {
   "cell_type": "code",
   "execution_count": null,
   "metadata": {},
   "outputs": [],
   "source": []
  },
  {
   "cell_type": "code",
   "execution_count": null,
   "metadata": {},
   "outputs": [],
   "source": []
  },
  {
   "cell_type": "code",
   "execution_count": null,
   "metadata": {},
   "outputs": [],
   "source": []
  },
  {
   "cell_type": "code",
   "execution_count": null,
   "metadata": {},
   "outputs": [],
   "source": []
  },
  {
   "cell_type": "code",
   "execution_count": null,
   "metadata": {},
   "outputs": [],
   "source": []
  },
  {
   "cell_type": "code",
   "execution_count": null,
   "metadata": {},
   "outputs": [],
   "source": [
    "           "
   ]
  },
  {
   "cell_type": "code",
   "execution_count": null,
   "metadata": {},
   "outputs": [],
   "source": [
    "\n",
    "        "
   ]
  },
  {
   "cell_type": "code",
   "execution_count": null,
   "metadata": {},
   "outputs": [],
   "source": []
  },
  {
   "cell_type": "code",
   "execution_count": null,
   "metadata": {},
   "outputs": [],
   "source": []
  },
  {
   "cell_type": "code",
   "execution_count": null,
   "metadata": {},
   "outputs": [],
   "source": []
  },
  {
   "cell_type": "code",
   "execution_count": null,
   "metadata": {},
   "outputs": [],
   "source": []
  },
  {
   "cell_type": "code",
   "execution_count": null,
   "metadata": {},
   "outputs": [],
   "source": []
  },
  {
   "cell_type": "code",
   "execution_count": null,
   "metadata": {},
   "outputs": [],
   "source": []
  },
  {
   "cell_type": "code",
   "execution_count": null,
   "metadata": {},
   "outputs": [],
   "source": []
  },
  {
   "cell_type": "code",
   "execution_count": null,
   "metadata": {},
   "outputs": [],
   "source": []
  },
  {
   "cell_type": "code",
   "execution_count": null,
   "metadata": {},
   "outputs": [],
   "source": []
  },
  {
   "cell_type": "code",
   "execution_count": null,
   "metadata": {},
   "outputs": [],
   "source": []
  },
  {
   "cell_type": "code",
   "execution_count": null,
   "metadata": {},
   "outputs": [],
   "source": []
  },
  {
   "cell_type": "code",
   "execution_count": null,
   "metadata": {},
   "outputs": [],
   "source": []
  },
  {
   "cell_type": "code",
   "execution_count": null,
   "metadata": {},
   "outputs": [],
   "source": []
  },
  {
   "cell_type": "code",
   "execution_count": null,
   "metadata": {},
   "outputs": [],
   "source": []
  },
  {
   "cell_type": "code",
   "execution_count": null,
   "metadata": {},
   "outputs": [],
   "source": []
  },
  {
   "cell_type": "code",
   "execution_count": null,
   "metadata": {},
   "outputs": [],
   "source": []
  },
  {
   "cell_type": "code",
   "execution_count": null,
   "metadata": {},
   "outputs": [],
   "source": []
  },
  {
   "cell_type": "code",
   "execution_count": null,
   "metadata": {},
   "outputs": [],
   "source": []
  },
  {
   "cell_type": "code",
   "execution_count": null,
   "metadata": {},
   "outputs": [],
   "source": []
  },
  {
   "cell_type": "code",
   "execution_count": null,
   "metadata": {},
   "outputs": [],
   "source": []
  },
  {
   "cell_type": "code",
   "execution_count": null,
   "metadata": {},
   "outputs": [],
   "source": []
  },
  {
   "cell_type": "code",
   "execution_count": null,
   "metadata": {},
   "outputs": [],
   "source": []
  },
  {
   "cell_type": "code",
   "execution_count": null,
   "metadata": {},
   "outputs": [],
   "source": []
  },
  {
   "cell_type": "code",
   "execution_count": null,
   "metadata": {},
   "outputs": [],
   "source": []
  },
  {
   "cell_type": "code",
   "execution_count": null,
   "metadata": {},
   "outputs": [],
   "source": []
  },
  {
   "cell_type": "code",
   "execution_count": null,
   "metadata": {},
   "outputs": [],
   "source": []
  },
  {
   "cell_type": "code",
   "execution_count": null,
   "metadata": {},
   "outputs": [],
   "source": []
  },
  {
   "cell_type": "code",
   "execution_count": null,
   "metadata": {},
   "outputs": [],
   "source": []
  },
  {
   "cell_type": "code",
   "execution_count": null,
   "metadata": {},
   "outputs": [],
   "source": []
  },
  {
   "cell_type": "code",
   "execution_count": null,
   "metadata": {},
   "outputs": [],
   "source": []
  },
  {
   "cell_type": "code",
   "execution_count": null,
   "metadata": {},
   "outputs": [],
   "source": []
  },
  {
   "cell_type": "code",
   "execution_count": null,
   "metadata": {},
   "outputs": [],
   "source": []
  },
  {
   "cell_type": "code",
   "execution_count": null,
   "metadata": {},
   "outputs": [],
   "source": []
  },
  {
   "cell_type": "code",
   "execution_count": null,
   "metadata": {},
   "outputs": [],
   "source": []
  },
  {
   "cell_type": "code",
   "execution_count": null,
   "metadata": {},
   "outputs": [],
   "source": []
  },
  {
   "cell_type": "code",
   "execution_count": null,
   "metadata": {},
   "outputs": [],
   "source": []
  },
  {
   "cell_type": "code",
   "execution_count": null,
   "metadata": {},
   "outputs": [],
   "source": []
  },
  {
   "cell_type": "code",
   "execution_count": null,
   "metadata": {},
   "outputs": [],
   "source": [
    "\n"
   ]
  },
  {
   "cell_type": "code",
   "execution_count": null,
   "metadata": {},
   "outputs": [],
   "source": [
    " "
   ]
  },
  {
   "cell_type": "code",
   "execution_count": null,
   "metadata": {},
   "outputs": [],
   "source": []
  },
  {
   "cell_type": "code",
   "execution_count": null,
   "metadata": {},
   "outputs": [],
   "source": []
  },
  {
   "cell_type": "code",
   "execution_count": null,
   "metadata": {},
   "outputs": [],
   "source": []
  },
  {
   "cell_type": "code",
   "execution_count": null,
   "metadata": {},
   "outputs": [],
   "source": []
  },
  {
   "cell_type": "code",
   "execution_count": null,
   "metadata": {},
   "outputs": [],
   "source": []
  },
  {
   "cell_type": "code",
   "execution_count": null,
   "metadata": {},
   "outputs": [],
   "source": []
  },
  {
   "cell_type": "code",
   "execution_count": null,
   "metadata": {},
   "outputs": [],
   "source": []
  },
  {
   "cell_type": "code",
   "execution_count": null,
   "metadata": {},
   "outputs": [],
   "source": []
  },
  {
   "cell_type": "code",
   "execution_count": null,
   "metadata": {},
   "outputs": [],
   "source": [
    " "
   ]
  },
  {
   "cell_type": "code",
   "execution_count": null,
   "metadata": {},
   "outputs": [],
   "source": []
  },
  {
   "cell_type": "code",
   "execution_count": null,
   "metadata": {},
   "outputs": [],
   "source": []
  },
  {
   "cell_type": "code",
   "execution_count": null,
   "metadata": {},
   "outputs": [],
   "source": [
    "\n",
    "    \n"
   ]
  },
  {
   "cell_type": "code",
   "execution_count": null,
   "metadata": {},
   "outputs": [],
   "source": []
  },
  {
   "cell_type": "code",
   "execution_count": null,
   "metadata": {},
   "outputs": [],
   "source": [
    "\n"
   ]
  },
  {
   "cell_type": "code",
   "execution_count": null,
   "metadata": {},
   "outputs": [],
   "source": []
  },
  {
   "cell_type": "code",
   "execution_count": null,
   "metadata": {},
   "outputs": [],
   "source": []
  },
  {
   "cell_type": "code",
   "execution_count": null,
   "metadata": {},
   "outputs": [],
   "source": []
  },
  {
   "cell_type": "code",
   "execution_count": null,
   "metadata": {},
   "outputs": [],
   "source": []
  },
  {
   "cell_type": "code",
   "execution_count": null,
   "metadata": {},
   "outputs": [],
   "source": []
  },
  {
   "cell_type": "code",
   "execution_count": null,
   "metadata": {},
   "outputs": [],
   "source": []
  },
  {
   "cell_type": "code",
   "execution_count": null,
   "metadata": {},
   "outputs": [],
   "source": []
  },
  {
   "cell_type": "code",
   "execution_count": null,
   "metadata": {},
   "outputs": [],
   "source": []
  },
  {
   "cell_type": "code",
   "execution_count": null,
   "metadata": {},
   "outputs": [],
   "source": []
  },
  {
   "cell_type": "code",
   "execution_count": null,
   "metadata": {},
   "outputs": [],
   "source": []
  },
  {
   "cell_type": "code",
   "execution_count": null,
   "metadata": {},
   "outputs": [],
   "source": []
  },
  {
   "cell_type": "code",
   "execution_count": null,
   "metadata": {},
   "outputs": [],
   "source": []
  },
  {
   "cell_type": "code",
   "execution_count": null,
   "metadata": {},
   "outputs": [],
   "source": []
  },
  {
   "cell_type": "code",
   "execution_count": null,
   "metadata": {},
   "outputs": [],
   "source": []
  },
  {
   "cell_type": "code",
   "execution_count": null,
   "metadata": {},
   "outputs": [],
   "source": []
  },
  {
   "cell_type": "code",
   "execution_count": null,
   "metadata": {},
   "outputs": [],
   "source": []
  },
  {
   "cell_type": "code",
   "execution_count": null,
   "metadata": {},
   "outputs": [],
   "source": []
  },
  {
   "cell_type": "code",
   "execution_count": null,
   "metadata": {},
   "outputs": [],
   "source": []
  },
  {
   "cell_type": "code",
   "execution_count": null,
   "metadata": {},
   "outputs": [],
   "source": []
  },
  {
   "cell_type": "code",
   "execution_count": null,
   "metadata": {},
   "outputs": [],
   "source": []
  },
  {
   "cell_type": "code",
   "execution_count": null,
   "metadata": {},
   "outputs": [],
   "source": []
  },
  {
   "cell_type": "code",
   "execution_count": null,
   "metadata": {},
   "outputs": [],
   "source": []
  },
  {
   "cell_type": "code",
   "execution_count": null,
   "metadata": {},
   "outputs": [],
   "source": []
  },
  {
   "cell_type": "code",
   "execution_count": null,
   "metadata": {},
   "outputs": [],
   "source": []
  },
  {
   "cell_type": "code",
   "execution_count": null,
   "metadata": {},
   "outputs": [],
   "source": []
  },
  {
   "cell_type": "code",
   "execution_count": null,
   "metadata": {},
   "outputs": [],
   "source": []
  },
  {
   "cell_type": "code",
   "execution_count": null,
   "metadata": {},
   "outputs": [],
   "source": []
  },
  {
   "cell_type": "code",
   "execution_count": null,
   "metadata": {},
   "outputs": [],
   "source": []
  },
  {
   "cell_type": "code",
   "execution_count": null,
   "metadata": {},
   "outputs": [],
   "source": [
    "        "
   ]
  },
  {
   "cell_type": "code",
   "execution_count": null,
   "metadata": {},
   "outputs": [],
   "source": []
  }
 ],
 "metadata": {
  "kernelspec": {
   "display_name": "Python 3.7",
   "language": "python",
   "name": "python3"
  },
  "language_info": {
   "codemirror_mode": {
    "name": "ipython",
    "version": 3
   },
   "file_extension": ".py",
   "mimetype": "text/x-python",
   "name": "python",
   "nbconvert_exporter": "python",
   "pygments_lexer": "ipython3",
   "version": "3.7.9"
  }
 },
 "nbformat": 4,
 "nbformat_minor": 1
}
